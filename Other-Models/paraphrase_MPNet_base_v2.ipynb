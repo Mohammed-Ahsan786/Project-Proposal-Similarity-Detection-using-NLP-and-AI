{
  "cells": [
    {
      "cell_type": "code",
      "execution_count": null,
      "metadata": {
        "colab": {
          "base_uri": "https://localhost:8080/"
        },
        "id": "Z37pW6a5Ma0B",
        "outputId": "adae64d5-f069-4e86-e4cb-fce5825f226f"
      },
      "outputs": [
        {
          "output_type": "stream",
          "name": "stdout",
          "text": [
            "Collecting sentence-transformers\n",
            "  Downloading sentence_transformers-3.2.0-py3-none-any.whl.metadata (10 kB)\n",
            "Requirement already satisfied: transformers<5.0.0,>=4.41.0 in /usr/local/lib/python3.10/dist-packages (from sentence-transformers) (4.44.2)\n",
            "Requirement already satisfied: tqdm in /usr/local/lib/python3.10/dist-packages (from sentence-transformers) (4.66.5)\n",
            "Requirement already satisfied: torch>=1.11.0 in /usr/local/lib/python3.10/dist-packages (from sentence-transformers) (2.4.1+cu121)\n",
            "Requirement already satisfied: scikit-learn in /usr/local/lib/python3.10/dist-packages (from sentence-transformers) (1.5.2)\n",
            "Requirement already satisfied: scipy in /usr/local/lib/python3.10/dist-packages (from sentence-transformers) (1.13.1)\n",
            "Requirement already satisfied: huggingface-hub>=0.20.0 in /usr/local/lib/python3.10/dist-packages (from sentence-transformers) (0.24.7)\n",
            "Requirement already satisfied: Pillow in /usr/local/lib/python3.10/dist-packages (from sentence-transformers) (10.4.0)\n",
            "Requirement already satisfied: filelock in /usr/local/lib/python3.10/dist-packages (from huggingface-hub>=0.20.0->sentence-transformers) (3.16.1)\n",
            "Requirement already satisfied: fsspec>=2023.5.0 in /usr/local/lib/python3.10/dist-packages (from huggingface-hub>=0.20.0->sentence-transformers) (2024.6.1)\n",
            "Requirement already satisfied: packaging>=20.9 in /usr/local/lib/python3.10/dist-packages (from huggingface-hub>=0.20.0->sentence-transformers) (24.1)\n",
            "Requirement already satisfied: pyyaml>=5.1 in /usr/local/lib/python3.10/dist-packages (from huggingface-hub>=0.20.0->sentence-transformers) (6.0.2)\n",
            "Requirement already satisfied: requests in /usr/local/lib/python3.10/dist-packages (from huggingface-hub>=0.20.0->sentence-transformers) (2.32.3)\n",
            "Requirement already satisfied: typing-extensions>=3.7.4.3 in /usr/local/lib/python3.10/dist-packages (from huggingface-hub>=0.20.0->sentence-transformers) (4.12.2)\n",
            "Requirement already satisfied: sympy in /usr/local/lib/python3.10/dist-packages (from torch>=1.11.0->sentence-transformers) (1.13.3)\n",
            "Requirement already satisfied: networkx in /usr/local/lib/python3.10/dist-packages (from torch>=1.11.0->sentence-transformers) (3.3)\n",
            "Requirement already satisfied: jinja2 in /usr/local/lib/python3.10/dist-packages (from torch>=1.11.0->sentence-transformers) (3.1.4)\n",
            "Requirement already satisfied: numpy>=1.17 in /usr/local/lib/python3.10/dist-packages (from transformers<5.0.0,>=4.41.0->sentence-transformers) (1.26.4)\n",
            "Requirement already satisfied: regex!=2019.12.17 in /usr/local/lib/python3.10/dist-packages (from transformers<5.0.0,>=4.41.0->sentence-transformers) (2024.9.11)\n",
            "Requirement already satisfied: safetensors>=0.4.1 in /usr/local/lib/python3.10/dist-packages (from transformers<5.0.0,>=4.41.0->sentence-transformers) (0.4.5)\n",
            "Requirement already satisfied: tokenizers<0.20,>=0.19 in /usr/local/lib/python3.10/dist-packages (from transformers<5.0.0,>=4.41.0->sentence-transformers) (0.19.1)\n",
            "Requirement already satisfied: joblib>=1.2.0 in /usr/local/lib/python3.10/dist-packages (from scikit-learn->sentence-transformers) (1.4.2)\n",
            "Requirement already satisfied: threadpoolctl>=3.1.0 in /usr/local/lib/python3.10/dist-packages (from scikit-learn->sentence-transformers) (3.5.0)\n",
            "Requirement already satisfied: MarkupSafe>=2.0 in /usr/local/lib/python3.10/dist-packages (from jinja2->torch>=1.11.0->sentence-transformers) (2.1.5)\n",
            "Requirement already satisfied: charset-normalizer<4,>=2 in /usr/local/lib/python3.10/dist-packages (from requests->huggingface-hub>=0.20.0->sentence-transformers) (3.3.2)\n",
            "Requirement already satisfied: idna<4,>=2.5 in /usr/local/lib/python3.10/dist-packages (from requests->huggingface-hub>=0.20.0->sentence-transformers) (3.10)\n",
            "Requirement already satisfied: urllib3<3,>=1.21.1 in /usr/local/lib/python3.10/dist-packages (from requests->huggingface-hub>=0.20.0->sentence-transformers) (2.2.3)\n",
            "Requirement already satisfied: certifi>=2017.4.17 in /usr/local/lib/python3.10/dist-packages (from requests->huggingface-hub>=0.20.0->sentence-transformers) (2024.8.30)\n",
            "Requirement already satisfied: mpmath<1.4,>=1.1.0 in /usr/local/lib/python3.10/dist-packages (from sympy->torch>=1.11.0->sentence-transformers) (1.3.0)\n",
            "Downloading sentence_transformers-3.2.0-py3-none-any.whl (255 kB)\n",
            "\u001b[2K   \u001b[90m━━━━━━━━━━━━━━━━━━━━━━━━━━━━━━━━━━━━━━━━\u001b[0m \u001b[32m255.2/255.2 kB\u001b[0m \u001b[31m18.2 MB/s\u001b[0m eta \u001b[36m0:00:00\u001b[0m\n",
            "\u001b[?25hInstalling collected packages: sentence-transformers\n",
            "Successfully installed sentence-transformers-3.2.0\n",
            "Requirement already satisfied: pandas in /usr/local/lib/python3.10/dist-packages (2.2.2)\n",
            "Requirement already satisfied: numpy>=1.22.4 in /usr/local/lib/python3.10/dist-packages (from pandas) (1.26.4)\n",
            "Requirement already satisfied: python-dateutil>=2.8.2 in /usr/local/lib/python3.10/dist-packages (from pandas) (2.8.2)\n",
            "Requirement already satisfied: pytz>=2020.1 in /usr/local/lib/python3.10/dist-packages (from pandas) (2024.2)\n",
            "Requirement already satisfied: tzdata>=2022.7 in /usr/local/lib/python3.10/dist-packages (from pandas) (2024.2)\n",
            "Requirement already satisfied: six>=1.5 in /usr/local/lib/python3.10/dist-packages (from python-dateutil>=2.8.2->pandas) (1.16.0)\n",
            "Requirement already satisfied: prettytable in /usr/local/lib/python3.10/dist-packages (3.11.0)\n",
            "Requirement already satisfied: wcwidth in /usr/local/lib/python3.10/dist-packages (from prettytable) (0.2.13)\n"
          ]
        },
        {
          "output_type": "stream",
          "name": "stderr",
          "text": [
            "/usr/local/lib/python3.10/dist-packages/sentence_transformers/cross_encoder/CrossEncoder.py:13: TqdmExperimentalWarning: Using `tqdm.autonotebook.tqdm` in notebook mode. Use `tqdm.tqdm` instead to force console mode (e.g. in jupyter console)\n",
            "  from tqdm.autonotebook import tqdm, trange\n"
          ]
        }
      ],
      "source": [
        "!pip install sentence-transformers\n",
        "!pip install pandas\n",
        "!pip install prettytable\n",
        "import time\n",
        "import pandas as pd\n",
        "import numpy as np\n",
        "from sklearn.metrics.pairwise import cosine_similarity\n",
        "from sentence_transformers import SentenceTransformer\n",
        "from prettytable import PrettyTable"
      ]
    },
    {
      "cell_type": "code",
      "execution_count": null,
      "metadata": {
        "id": "1RlgWX-CcXB2",
        "colab": {
          "base_uri": "https://localhost:8080/"
        },
        "outputId": "dfc7d914-12eb-4f4f-f142-d776214a294e"
      },
      "outputs": [
        {
          "output_type": "stream",
          "name": "stderr",
          "text": [
            "/usr/local/lib/python3.10/dist-packages/transformers/tokenization_utils_base.py:1601: FutureWarning: `clean_up_tokenization_spaces` was not set. It will be set to `True` by default. This behavior will be depracted in transformers v4.45, and will be then set to `False` by default. For more details check this issue: https://github.com/huggingface/transformers/issues/31884\n",
            "  warnings.warn(\n"
          ]
        }
      ],
      "source": [
        "\n",
        "# Load the paraphrase-MPNet-base-v2 model\n",
        "model = SentenceTransformer('paraphrase-MPNet-base-v2')\n",
        "\n",
        "# Load the CSV file into a DataFrame\n",
        "df = pd.read_csv('projects.csv')\n",
        "\n",
        "# Combine title and abstract into a single text field\n",
        "df['combined_text'] = df['abstract']\n",
        "# df['combined_text'] = df['title'] + ' ' + df['abstract']"
      ]
    },
    {
      "cell_type": "code",
      "execution_count": null,
      "metadata": {
        "id": "4SRcu6oKcW_f",
        "colab": {
          "base_uri": "https://localhost:8080/"
        },
        "outputId": "e5ff4570-fe35-4a13-cf54-c3107a0118bc"
      },
      "outputs": [
        {
          "output_type": "stream",
          "name": "stdout",
          "text": [
            "Time taken to generate embeddings for projects: 40.69 seconds\n"
          ]
        }
      ],
      "source": [
        "\n",
        "# Generate embeddings for each project and store in the DataFrame\n",
        "start_time = time.time()\n",
        "df['embeddings'] = df['combined_text'].apply(lambda x: model.encode(x).tolist())\n",
        "end_time = time.time()\n",
        "print(f\"Time taken to generate embeddings for projects: {end_time - start_time:.2f} seconds\")"
      ]
    },
    {
      "cell_type": "markdown",
      "metadata": {
        "id": "L0ciWjKRUqgk"
      },
      "source": [
        "## Enter the details about the New Project"
      ]
    },
    {
      "cell_type": "code",
      "execution_count": null,
      "metadata": {
        "id": "3uiExV6mUD1U",
        "colab": {
          "base_uri": "https://localhost:8080/",
          "height": 143
        },
        "outputId": "18c14e54-0d12-4423-d429-d45a76ee58fc"
      },
      "outputs": [
        {
          "output_type": "execute_result",
          "data": {
            "text/plain": [
              "' \\nEnter the details about the input proposal\\nnew_title = \"Calculation of prompt diphoton production cross sections at Tevatron and LHC energies\"\\nnew_abstract = \"\"\"  A fully differential calculation in perturbative quantum chromodynamics is\\npresented for the production of massive photon pairs at hadron colliders. All\\nnext-to-leading order perturbative contributions from quark-antiquark,\\ngluon-(anti)quark, and gluon-gluon subprocesses are included, as well as\\nall-orders resummation of initial-state gluon radiation valid at\\nnext-to-next-to-leading logarithmic accuracy. The region of phase space is\\nspecified in which the calculation is most reliable. Good agreement is\\ndemonstrated with data from the Fermilab Tevatron, and predictions are made for\\nmore detailed tests with CDF and DO data. Predictions are shown for\\ndistributions of diphoton pairs produced at the energy of the Large Hadron\\nCollider (LHC). Distributions of the diphoton pairs from the decay of a Higgs\\nboson are contrasted with those produced from QCD processes at the LHC, showing\\nthat enhanced sensitivity to the signal can be obtained with judicious\\nselection of events.\"\"\"\\nnew_combined_text = new_title + \\' \\' + new_abstract\\n'"
            ],
            "application/vnd.google.colaboratory.intrinsic+json": {
              "type": "string"
            }
          },
          "metadata": {},
          "execution_count": 69
        }
      ],
      "source": [
        "# Enter the details about the input proposal\n",
        "\n",
        "new_abstract = \"\"\"This project investigates the influence of social media on the mental well-being of adolescents, focusing on the relationship between screen time, online interactions, and feelings of loneliness and anxiety. A mixed-methods approach was employed, combining quantitative surveys and qualitative interviews with participants aged 13 to 18. The survey assessed daily screen time, types of social media usage, and self-reported mental health indicators. Interviews provided deeper insights into personal experiences and perceptions regarding social media's impact. Results revealed a correlation between excessive screen time and increased feelings of anxiety and loneliness, particularly among users who reported negative interactions online. Conversely, participants who engaged in positive online communities reported higher levels of social support and lower anxiety. This study underscores the complex role of social media in adolescent mental health, highlighting the need for balanced usage and promoting healthy online interactions. The findings contribute to ongoing discussions about digital well-being and provide valuable insights for parents, educators, and mental health professionals.\"\"\"\n",
        "new_combined_text = new_abstract\n",
        "\n",
        "'''\n",
        "Enter the details about the input proposal\n",
        "new_title = \"Calculation of prompt diphoton production cross sections at Tevatron and LHC energies\"\n",
        "new_abstract = \"\"\"  A fully differential calculation in perturbative quantum chromodynamics is\n",
        "presented for the production of massive photon pairs at hadron colliders. All\n",
        "next-to-leading order perturbative contributions from quark-antiquark,\n",
        "gluon-(anti)quark, and gluon-gluon subprocesses are included, as well as\n",
        "all-orders resummation of initial-state gluon radiation valid at\n",
        "next-to-next-to-leading logarithmic accuracy. The region of phase space is\n",
        "specified in which the calculation is most reliable. Good agreement is\n",
        "demonstrated with data from the Fermilab Tevatron, and predictions are made for\n",
        "more detailed tests with CDF and DO data. Predictions are shown for\n",
        "distributions of diphoton pairs produced at the energy of the Large Hadron\n",
        "Collider (LHC). Distributions of the diphoton pairs from the decay of a Higgs\n",
        "boson are contrasted with those produced from QCD processes at the LHC, showing\n",
        "that enhanced sensitivity to the signal can be obtained with judicious\n",
        "selection of events.\"\"\"\n",
        "new_combined_text = new_title + ' ' + new_abstract\n",
        "'''\n",
        "\n"
      ]
    },
    {
      "cell_type": "code",
      "execution_count": null,
      "metadata": {
        "id": "EbpCo4QNfEDh",
        "colab": {
          "base_uri": "https://localhost:8080/"
        },
        "outputId": "b34cdfcf-3a33-47e7-a720-65255889fc20"
      },
      "outputs": [
        {
          "output_type": "stream",
          "name": "stdout",
          "text": [
            "Time taken to generate embedding for the new proposal: 0.03 seconds\n",
            "Time taken to calculate similarity scores: 0.01 seconds\n"
          ]
        }
      ],
      "source": [
        "# Generate embedding for the new proposal\n",
        "start_time = time.time()\n",
        "new_embedding = model.encode(new_combined_text)\n",
        "end_time = time.time()\n",
        "print(f\"Time taken to generate embedding for the new proposal: {end_time - start_time:.2f} seconds\")\n",
        "\n",
        "# Convert embeddings from list to numpy array\n",
        "existing_embeddings = np.array(df['embeddings'].tolist())\n",
        "\n",
        "# Calculate cosine similarity between the new embedding and existing embeddings\n",
        "start_time = time.time()\n",
        "similarity_scores = cosine_similarity([new_embedding], existing_embeddings)\n",
        "end_time = time.time()\n",
        "print(f\"Time taken to calculate similarity scores: {end_time - start_time:.2f} seconds\")"
      ]
    },
    {
      "cell_type": "code",
      "execution_count": null,
      "metadata": {
        "id": "0ENoG9PMVFKZ",
        "colab": {
          "base_uri": "https://localhost:8080/"
        },
        "outputId": "d7f1c656-022c-431d-c057-2a35435f804b"
      },
      "outputs": [
        {
          "output_type": "stream",
          "name": "stdout",
          "text": [
            "+------+------------------+---------------------------------------------------------------+---------------------------------------------------------------------------------+--------------------------------+\n",
            "| Rank | Similarity Score |                             Title                             |                                     Category                                    |            Abstract            |\n",
            "+------+------------------+---------------------------------------------------------------+---------------------------------------------------------------------------------+--------------------------------+\n",
            "|  1   |      0.4583      |                Novelty and Collective Attention               |     The subject of collective attention is central to an information age where  |   cs.CY cs.IR physics.soc-ph   |\n",
            "|      |                  |                                                               | millions of people are inundated with daily messages. It is thus of interest to |                                |\n",
            "|      |                  |                                                               |  understand how attention to novel items propagates and eventually fades among  |                                |\n",
            "|      |                  |                                                               |  large populations. We have analyzed the dynamics of collective attention among |                                |\n",
            "|      |                  |                                                               |  one million users of an interactive website -- \\texttt{digg.com} -- devoted to |                                |\n",
            "|      |                  |                                                               |     thousands of novel news stories. The observations can be described by a     |                                |\n",
            "|      |                  |                                                               |    dynamical model characterized by a single novelty factor. Our measurements   |                                |\n",
            "|      |                  |                                                               |   indicate that novelty within groups decays with a stretched-exponential law,  |                                |\n",
            "|      |                  |                                                               |   suggesting the existence of a natural time scale over which attention fades.  |                                |\n",
            "|      |                  |                                                               |                                                                                 |                                |\n",
            "|  2   |      0.3496      |               Quantifying social group evolution              |     The rich set of interactions between individuals in the society results in  | stat.ME physics.soc-ph stat.AP |\n",
            "|      |                  |                                                               |   complex community structure, capturing highly connected circles of friends,   |                                |\n",
            "|      |                  |                                                               |    families, or professional cliques in a social network. Thanks to frequent    |                                |\n",
            "|      |                  |                                                               |      changes in the activity and communication patterns of individuals, the     |                                |\n",
            "|      |                  |                                                               |  associated social and communication network is subject to constant evolution.  |                                |\n",
            "|      |                  |                                                               |  Our knowledge of the mechanisms governing the underlying community dynamics is |                                |\n",
            "|      |                  |                                                               |   limited, but is essential for a deeper understanding of the development and   |                                |\n",
            "|      |                  |                                                               |  self-optimisation of the society as a whole. We have developed a new algorithm |                                |\n",
            "|      |                  |                                                               |   based on clique percolation, that allows, for the first time, to investigate  |                                |\n",
            "|      |                  |                                                               | the time dependence of overlapping communities on a large scale and as such, to |                                |\n",
            "|      |                  |                                                               | uncover basic relationships characterising community evolution. Our focus is on |                                |\n",
            "|      |                  |                                                               |  networks capturing the collaboration between scientists and the calls between  |                                |\n",
            "|      |                  |                                                               |     mobile phone users. We find that large groups persist longer if they are    |                                |\n",
            "|      |                  |                                                               | capable of dynamically altering their membership, suggesting that an ability to |                                |\n",
            "|      |                  |                                                               |  change the composition results in better adaptability. The behaviour of small  |                                |\n",
            "|      |                  |                                                               |  groups displays the opposite tendency, the condition for stability being that  |                                |\n",
            "|      |                  |                                                               |   their composition remains unchanged. We also show that the knowledge of the   |                                |\n",
            "|      |                  |                                                               |  time commitment of the members to a given community can be used for estimating |                                |\n",
            "|      |                  |                                                               |   the community's lifetime. These findings offer a new view on the fundamental  |                                |\n",
            "|      |                  |                                                               |     differences between the dynamics of small groups and large institutions.    |                                |\n",
            "|      |                  |                                                               |                                                                                 |                                |\n",
            "|  3   |      0.3063      | Exploiting Social Annotation for Automatic Resource Discovery |      Information integration applications, such as mediators or mashups, that   |       cs.AI cs.CY cs.DL        |\n",
            "|      |                  |                                                               |     require access to information resources currently rely on users manually    |                                |\n",
            "|      |                  |                                                               |  discovering and integrating them in the application. Manual resource discovery |                                |\n",
            "|      |                  |                                                               |    is a slow process, requiring the user to sift through results obtained via   |                                |\n",
            "|      |                  |                                                               | keyword-based search. Although search methods have advanced to include evidence |                                |\n",
            "|      |                  |                                                               | from document contents, its metadata and the contents and link structure of the |                                |\n",
            "|      |                  |                                                               |    referring pages, they still do not adequately cover information sources --   |                                |\n",
            "|      |                  |                                                               |     often called ``the hidden Web''-- that dynamically generate documents in    |                                |\n",
            "|      |                  |                                                               | response to a query. The recently popular social bookmarking sites, which allow |                                |\n",
            "|      |                  |                                                               | users to annotate and share metadata about various information sources, provide |                                |\n",
            "|      |                  |                                                               |        rich evidence for resource discovery. In this paper, we describe a       |                                |\n",
            "|      |                  |                                                               |    probabilistic model of the user annotation process in a social bookmarking   |                                |\n",
            "|      |                  |                                                               |    system del.icio.us. We then use the model to automatically find resources    |                                |\n",
            "|      |                  |                                                               |  relevant to a particular information domain. Our experimental results on data  |                                |\n",
            "|      |                  |                                                               |  obtained from \\emph{del.icio.us} show this approach as a promising method for  |                                |\n",
            "|      |                  |                                                               |                  helping automate the resource discovery task.                  |                                |\n",
            "|      |                  |                                                               |                                                                                 |                                |\n",
            "|  4   |      0.2944      |   Models of Opinion Formation: Influence of Opinion Leaders   |       This paper studies the evolution of the distribution of opinions in a     |            nlin.AO             |\n",
            "|      |                  |                                                               |     population of individuals in which there exist two distinct subgroups of    |                                |\n",
            "|      |                  |                                                               |      highly-committed, well-connected opinion leaders endowed with a strong     |                                |\n",
            "|      |                  |                                                               |  convincing power. Each individual, located at a vertex of a directed graph, is |                                |\n",
            "|      |                  |                                                               |    characterized by her name, the list of people she is interacting with, her   |                                |\n",
            "|      |                  |                                                               |  level of awareness, and her opinion. Various temporal evolutions according to  |                                |\n",
            "|      |                  |                                                               |  different local rules are compared in order to find under which conditions the |                                |\n",
            "|      |                  |                                                               |  formation of strongly polarized subgroups, each adopting the opinion of one of |                                |\n",
            "|      |                  |                                                               |                  the two groups of opinion leaders, is favored.                 |                                |\n",
            "|      |                  |                                                               |                                                                                 |                                |\n",
            "|  5   |      0.2894      |               The World as Evolving Information               |     This paper discusses the benefits of describing the world as information,   |  cs.IT cs.AI math.IT q-bio.PE  |\n",
            "|      |                  |                                                               |   especially in the study of the evolution of life and cognition. Traditional   |                                |\n",
            "|      |                  |                                                               |     studies encounter problems because it is difficult to describe life and     |                                |\n",
            "|      |                  |                                                               | cognition in terms of matter and energy, since their laws are valid only at the |                                |\n",
            "|      |                  |                                                               |  physical scale. However, if matter and energy, as well as life and cognition,  |                                |\n",
            "|      |                  |                                                               |  are described in terms of information, evolution can be described consistently |                                |\n",
            "|      |                  |                                                               |                      as information becoming more complex.                      |                                |\n",
            "|      |                  |                                                               |     The paper presents eight tentative laws of information, valid at multiple   |                                |\n",
            "|      |                  |                                                               |    scales, which are generalizations of Darwinian, cybernetic, thermodynamic,   |                                |\n",
            "|      |                  |                                                               | psychological, philosophical, and complexity principles. These are further used |                                |\n",
            "|      |                  |                                                               |          to discuss the notions of life, cognition and their evolution.         |                                |\n",
            "|      |                  |                                                               |                                                                                 |                                |\n",
            "+------+------------------+---------------------------------------------------------------+---------------------------------------------------------------------------------+--------------------------------+\n"
          ]
        }
      ],
      "source": [
        "\n",
        "\n",
        "# Add similarity scores to the DataFrame\n",
        "df['similarity_score'] = similarity_scores[0]\n",
        "\n",
        "# Display the top 5 most similar projects\n",
        "top_projects = df[['project_id', 'title', 'category', 'abstract', 'similarity_score']].sort_values(by='similarity_score', ascending=False).head()\n",
        "\n",
        "from prettytable import PrettyTable\n",
        "\n",
        "# Create a PrettyTable object\n",
        "table = PrettyTable()\n",
        "table.field_names = [\"Rank\", \"Similarity Score\", \"Title\", \"Category\", \"Abstract\"]\n",
        "\n",
        "# Add rows to the table\n",
        "for rank, row in enumerate(top_projects.itertuples(), start=1):\n",
        "    table.add_row([\n",
        "        rank,\n",
        "        f\"{row.similarity_score:.4f}\",  # Format similarity score to 4 decimal places\n",
        "        row.title,\n",
        "        row.abstract,\n",
        "        row.category\n",
        "    ])\n",
        "\n",
        "# Print the table\n",
        "print(table)"
      ]
    }
  ],
  "metadata": {
    "colab": {
      "provenance": [],
      "gpuType": "T4"
    },
    "kernelspec": {
      "display_name": "Python 3",
      "name": "python3"
    },
    "language_info": {
      "name": "python"
    },
    "accelerator": "GPU"
  },
  "nbformat": 4,
  "nbformat_minor": 0
}